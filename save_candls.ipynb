{
 "cells": [
  {
   "cell_type": "code",
   "execution_count": 1,
   "metadata": {},
   "outputs": [],
   "source": [
    "'''This code seperates out currency pairs we are interested in from the massive list OANDA provides us with. Then from there we specify parameters\n",
    "like granulariy and time ranges. Then preprocess it to store it in a data frame with column headings like time, open, high, low, close, volume etc. Then \n",
    "finally save it in data/ as pkl format'''\n",
    "\n",
    "import requests\n",
    "import defs\n",
    "import pandas as pd"
   ]
  },
  {
   "cell_type": "code",
   "execution_count": 2,
   "metadata": {},
   "outputs": [],
   "source": [
    "session = requests.Session()"
   ]
  },
  {
   "cell_type": "code",
   "execution_count": 3,
   "metadata": {},
   "outputs": [],
   "source": [
    "ins_df = pd.read_pickle(\"instrument.pkl\")\n"
   ]
  },
  {
   "cell_type": "code",
   "execution_count": 4,
   "metadata": {},
   "outputs": [],
   "source": [
    "our_curr: list = ['EUR', 'USD', 'GBP', 'JPY', 'CHF','NZD', 'CAD']"
   ]
  },
  {
   "cell_type": "code",
   "execution_count": 5,
   "metadata": {},
   "outputs": [
    {
     "name": "stdout",
     "output_type": "stream",
     "text": [
      "EUR USD\n",
      "EUR GBP\n",
      "EUR JPY\n",
      "EUR CHF\n",
      "EUR NZD\n",
      "EUR CAD\n",
      "USD GBP\n",
      "USD JPY\n",
      "USD CHF\n",
      "USD NZD\n",
      "USD CAD\n",
      "GBP JPY\n",
      "GBP CHF\n",
      "GBP NZD\n",
      "GBP CAD\n",
      "JPY CHF\n",
      "JPY NZD\n",
      "JPY CAD\n",
      "CHF NZD\n",
      "CHF CAD\n",
      "NZD CAD\n"
     ]
    }
   ],
   "source": [
    "for i in range(0, len(our_curr),1):\n",
    "    for j in range(i+1, len(our_curr),1):\n",
    "        print(our_curr[i], our_curr[j]) "
   ]
  },
  {
   "cell_type": "code",
   "execution_count": 6,
   "metadata": {},
   "outputs": [
    {
     "name": "stdout",
     "output_type": "stream",
     "text": [
      "<class 'pandas.core.frame.DataFrame'>\n",
      "RangeIndex: 123 entries, 0 to 122\n",
      "Data columns (total 5 columns):\n",
      " #   Column       Non-Null Count  Dtype \n",
      "---  ------       --------------  ----- \n",
      " 0   name         123 non-null    object\n",
      " 1   type         123 non-null    object\n",
      " 2   displayName  123 non-null    object\n",
      " 3   pipLocation  123 non-null    int64 \n",
      " 4   marginRate   123 non-null    object\n",
      "dtypes: int64(1), object(4)\n",
      "memory usage: 4.9+ KB\n"
     ]
    }
   ],
   "source": [
    "ins_df.info()"
   ]
  },
  {
   "cell_type": "code",
   "execution_count": 7,
   "metadata": {},
   "outputs": [
    {
     "data": {
      "text/plain": [
       "array(['USD_CNH', 'NZD_CAD', 'EUR_CHF', 'SGD_CHF', 'XAU_AUD', 'WHEAT_USD',\n",
       "       'EUR_CZK', 'XAG_USD', 'NZD_JPY', 'CHF_HKD', 'EUR_GBP', 'US30_USD',\n",
       "       'EUR_NOK', 'JP225Y_JPY', 'USD_CZK', 'CN50_USD', 'GBP_NZD',\n",
       "       'XAU_USD', 'EUR_SEK', 'USD_SGD', 'GBP_PLN', 'CH20_CHF', 'CAD_HKD',\n",
       "       'XAG_CHF', 'USD_CHF', 'XAG_HKD', 'AUD_HKD', 'ESPIX_EUR', 'NZD_CHF',\n",
       "       'AUD_CHF', 'GBP_CHF', 'USD_THB', 'XAU_JPY', 'XAU_HKD', 'GBP_CAD',\n",
       "       'EUR_HKD', 'CHF_JPY', 'GBP_HKD', 'EUR_NZD', 'XAG_AUD', 'WTICO_USD',\n",
       "       'XAG_NZD', 'AUD_SGD', 'EUR_JPY', 'EUR_TRY', 'USD_JPY', 'SGD_JPY',\n",
       "       'GBP_ZAR', 'XAG_JPY', 'ZAR_JPY', 'NZD_SGD', 'GBP_JPY', 'USD_TRY',\n",
       "       'TRY_JPY', 'XAU_NZD', 'HK33_HKD', 'XAG_GBP', 'EUR_SGD', 'EUR_AUD',\n",
       "       'XAU_SGD', 'USD_CAD', 'SPX500_USD', 'USB10Y_USD', 'EU50_EUR',\n",
       "       'CAD_CHF', 'USD_NOK', 'USB02Y_USD', 'XCU_USD', 'AUD_USD',\n",
       "       'XAG_EUR', 'AUD_JPY', 'EUR_ZAR', 'CHF_ZAR', 'USD_HKD',\n",
       "       'CHINAH_HKD', 'USD_PLN', 'GBP_AUD', 'NAS100_USD', 'XAU_GBP',\n",
       "       'XAU_XAG', 'AU200_AUD', 'USD_DKK', 'XPT_USD', 'XAU_EUR',\n",
       "       'SOYBN_USD', 'EUR_USD', 'SG30_SGD', 'USD_ZAR', 'CAD_JPY',\n",
       "       'NL25_EUR', 'CORN_USD', 'NZD_USD', 'BCO_USD', 'NZD_HKD', 'AUD_NZD',\n",
       "       'XAG_SGD', 'USB30Y_USD', 'FR40_EUR', 'JP225_USD', 'CAD_SGD',\n",
       "       'XAU_CHF', 'GBP_USD', 'USD_MXN', 'AUD_CAD', 'USD_HUF', 'EUR_CAD',\n",
       "       'UK10YB_GBP', 'NATGAS_USD', 'XAU_CAD', 'EUR_DKK', 'XAG_CAD',\n",
       "       'USB05Y_USD', 'DE30_EUR', 'USD_SEK', 'GBP_SGD', 'XPD_USD',\n",
       "       'DE10YB_EUR', 'EUR_PLN', 'SUGAR_USD', 'HKD_JPY', 'UK100_GBP',\n",
       "       'US2000_USD', 'EUR_HUF'], dtype=object)"
      ]
     },
     "execution_count": 7,
     "metadata": {},
     "output_type": "execute_result"
    }
   ],
   "source": [
    "ins_df.name.unique()"
   ]
  },
  {
   "cell_type": "code",
   "execution_count": 8,
   "metadata": {},
   "outputs": [
    {
     "name": "stdout",
     "output_type": "stream",
     "text": [
      "EUR_USD\n",
      "EUR_GBP\n",
      "EUR_JPY\n",
      "EUR_CHF\n",
      "EUR_NZD\n",
      "EUR_CAD\n",
      "USD_JPY\n",
      "USD_CHF\n",
      "USD_CAD\n",
      "GBP_USD\n",
      "GBP_JPY\n",
      "GBP_CHF\n",
      "GBP_NZD\n",
      "GBP_CAD\n",
      "CHF_JPY\n",
      "NZD_USD\n",
      "NZD_JPY\n",
      "NZD_CHF\n",
      "NZD_CAD\n",
      "CAD_JPY\n",
      "CAD_CHF\n"
     ]
    }
   ],
   "source": [
    "for p1 in our_curr:\n",
    "    for p2 in our_curr:\n",
    "        if f\"{p1}_{p2}\" in ins_df.name.unique():\n",
    "            print(f\"{p1}_{p2}\")"
   ]
  },
  {
   "cell_type": "code",
   "execution_count": 9,
   "metadata": {},
   "outputs": [],
   "source": [
    "def fetch_candles(pair_name, count, granulrity):\n",
    "    url = f\"{defs.OANDA_URL}/instruments/{pair_name}/candles\"\n",
    "    params = dict(\n",
    "        count = count,\n",
    "        granlarity = granulrity,\n",
    "        price = \"MBA\"\n",
    "    )\n",
    "    response = session.get(url, params=params, headers = defs.SECURE_HEADER)\n",
    "    return response.status_code, response.json()"
   ]
  },
  {
   "cell_type": "code",
   "execution_count": 10,
   "metadata": {},
   "outputs": [],
   "source": [
    "code, res = fetch_candles(\"EUR_USD\", 10, \"H1\")"
   ]
  },
  {
   "cell_type": "code",
   "execution_count": 11,
   "metadata": {},
   "outputs": [
    {
     "data": {
      "text/plain": [
       "200"
      ]
     },
     "execution_count": 11,
     "metadata": {},
     "output_type": "execute_result"
    }
   ],
   "source": [
    "code"
   ]
  },
  {
   "cell_type": "code",
   "execution_count": 12,
   "metadata": {},
   "outputs": [
    {
     "data": {
      "text/plain": [
       "{'instrument': 'EUR_USD',\n",
       " 'granularity': 'S5',\n",
       " 'candles': [{'complete': True,\n",
       "   'volume': 4,\n",
       "   'time': '2024-07-26T20:57:50.000000000Z',\n",
       "   'bid': {'o': '1.08548', 'h': '1.08548', 'l': '1.08543', 'c': '1.08548'},\n",
       "   'mid': {'o': '1.08558', 'h': '1.08558', 'l': '1.08557', 'c': '1.08558'},\n",
       "   'ask': {'o': '1.08567', 'h': '1.08571', 'l': '1.08567', 'c': '1.08567'}},\n",
       "  {'complete': True,\n",
       "   'volume': 4,\n",
       "   'time': '2024-07-26T20:57:55.000000000Z',\n",
       "   'bid': {'o': '1.08546', 'h': '1.08548', 'l': '1.08546', 'c': '1.08548'},\n",
       "   'mid': {'o': '1.08554', 'h': '1.08558', 'l': '1.08554', 'c': '1.08556'},\n",
       "   'ask': {'o': '1.08563', 'h': '1.08567', 'l': '1.08563', 'c': '1.08565'}},\n",
       "  {'complete': True,\n",
       "   'volume': 4,\n",
       "   'time': '2024-07-26T20:58:00.000000000Z',\n",
       "   'bid': {'o': '1.08543', 'h': '1.08548', 'l': '1.08543', 'c': '1.08548'},\n",
       "   'mid': {'o': '1.08554', 'h': '1.08557', 'l': '1.08554', 'c': '1.08556'},\n",
       "   'ask': {'o': '1.08565', 'h': '1.08566', 'l': '1.08565', 'c': '1.08565'}},\n",
       "  {'complete': True,\n",
       "   'volume': 1,\n",
       "   'time': '2024-07-26T20:58:05.000000000Z',\n",
       "   'bid': {'o': '1.08548', 'h': '1.08548', 'l': '1.08548', 'c': '1.08548'},\n",
       "   'mid': {'o': '1.08557', 'h': '1.08557', 'l': '1.08557', 'c': '1.08557'},\n",
       "   'ask': {'o': '1.08566', 'h': '1.08566', 'l': '1.08566', 'c': '1.08566'}},\n",
       "  {'complete': True,\n",
       "   'volume': 1,\n",
       "   'time': '2024-07-26T20:58:10.000000000Z',\n",
       "   'bid': {'o': '1.08548', 'h': '1.08548', 'l': '1.08548', 'c': '1.08548'},\n",
       "   'mid': {'o': '1.08556', 'h': '1.08556', 'l': '1.08556', 'c': '1.08556'},\n",
       "   'ask': {'o': '1.08565', 'h': '1.08565', 'l': '1.08565', 'c': '1.08565'}},\n",
       "  {'complete': True,\n",
       "   'volume': 5,\n",
       "   'time': '2024-07-26T20:58:20.000000000Z',\n",
       "   'bid': {'o': '1.08548', 'h': '1.08549', 'l': '1.08548', 'c': '1.08549'},\n",
       "   'mid': {'o': '1.08557', 'h': '1.08558', 'l': '1.08557', 'c': '1.08558'},\n",
       "   'ask': {'o': '1.08566', 'h': '1.08568', 'l': '1.08566', 'c': '1.08568'}},\n",
       "  {'complete': True,\n",
       "   'volume': 1,\n",
       "   'time': '2024-07-26T20:58:30.000000000Z',\n",
       "   'bid': {'o': '1.08549', 'h': '1.08549', 'l': '1.08549', 'c': '1.08549'},\n",
       "   'mid': {'o': '1.08558', 'h': '1.08558', 'l': '1.08558', 'c': '1.08558'},\n",
       "   'ask': {'o': '1.08567', 'h': '1.08567', 'l': '1.08567', 'c': '1.08567'}},\n",
       "  {'complete': True,\n",
       "   'volume': 1,\n",
       "   'time': '2024-07-26T20:58:40.000000000Z',\n",
       "   'bid': {'o': '1.08550', 'h': '1.08550', 'l': '1.08550', 'c': '1.08550'},\n",
       "   'mid': {'o': '1.08560', 'h': '1.08560', 'l': '1.08560', 'c': '1.08560'},\n",
       "   'ask': {'o': '1.08569', 'h': '1.08569', 'l': '1.08569', 'c': '1.08569'}},\n",
       "  {'complete': True,\n",
       "   'volume': 4,\n",
       "   'time': '2024-07-26T20:58:55.000000000Z',\n",
       "   'bid': {'o': '1.08552', 'h': '1.08552', 'l': '1.08547', 'c': '1.08549'},\n",
       "   'mid': {'o': '1.08561', 'h': '1.08561', 'l': '1.08558', 'c': '1.08558'},\n",
       "   'ask': {'o': '1.08570', 'h': '1.08571', 'l': '1.08567', 'c': '1.08567'}},\n",
       "  {'complete': True,\n",
       "   'volume': 1,\n",
       "   'time': '2024-07-26T20:59:05.000000000Z',\n",
       "   'bid': {'o': '1.08548', 'h': '1.08548', 'l': '1.08548', 'c': '1.08548'},\n",
       "   'mid': {'o': '1.08558', 'h': '1.08558', 'l': '1.08558', 'c': '1.08558'},\n",
       "   'ask': {'o': '1.08568', 'h': '1.08568', 'l': '1.08568', 'c': '1.08568'}}]}"
      ]
     },
     "execution_count": 12,
     "metadata": {},
     "output_type": "execute_result"
    }
   ],
   "source": [
    "res"
   ]
  },
  {
   "cell_type": "code",
   "execution_count": 13,
   "metadata": {},
   "outputs": [],
   "source": [
    "def get_candles_df(json_rseponse):\n",
    "    prices = [\"mid\", \"bid\", \"ask\"]\n",
    "    ohlc= [\"o\", \"h\", \"l\", \"c\"]\n",
    "    our_data = []\n",
    "    for candle in json_rseponse[\"candles\"]:\n",
    "        if candle[\"complete\"]==False:\n",
    "            continue\n",
    "        new_dict = {}\n",
    "        new_dict[\"time\"] = candle[\"time\"]\n",
    "        new_dict[\"volume\"] = candle[\"volume\"]\n",
    "        for price in prices:\n",
    "            for oh in ohlc:\n",
    "                new_dict[f\"{price}_{oh}\"] = candle[price][oh]\n",
    "        our_data.append(new_dict)\n",
    "\n",
    "    candles_df=pd.DataFrame.from_dict(our_data)\n",
    "    return candles_df"
   ]
  },
  {
   "cell_type": "code",
   "execution_count": 14,
   "metadata": {},
   "outputs": [
    {
     "data": {
      "text/html": [
       "<div>\n",
       "<style scoped>\n",
       "    .dataframe tbody tr th:only-of-type {\n",
       "        vertical-align: middle;\n",
       "    }\n",
       "\n",
       "    .dataframe tbody tr th {\n",
       "        vertical-align: top;\n",
       "    }\n",
       "\n",
       "    .dataframe thead th {\n",
       "        text-align: right;\n",
       "    }\n",
       "</style>\n",
       "<table border=\"1\" class=\"dataframe\">\n",
       "  <thead>\n",
       "    <tr style=\"text-align: right;\">\n",
       "      <th></th>\n",
       "      <th>time</th>\n",
       "      <th>volume</th>\n",
       "      <th>mid_o</th>\n",
       "      <th>mid_h</th>\n",
       "      <th>mid_l</th>\n",
       "      <th>mid_c</th>\n",
       "      <th>bid_o</th>\n",
       "      <th>bid_h</th>\n",
       "      <th>bid_l</th>\n",
       "      <th>bid_c</th>\n",
       "      <th>ask_o</th>\n",
       "      <th>ask_h</th>\n",
       "      <th>ask_l</th>\n",
       "      <th>ask_c</th>\n",
       "    </tr>\n",
       "  </thead>\n",
       "  <tbody>\n",
       "    <tr>\n",
       "      <th>0</th>\n",
       "      <td>2024-07-26T20:57:50.000000000Z</td>\n",
       "      <td>4</td>\n",
       "      <td>1.08558</td>\n",
       "      <td>1.08558</td>\n",
       "      <td>1.08557</td>\n",
       "      <td>1.08558</td>\n",
       "      <td>1.08548</td>\n",
       "      <td>1.08548</td>\n",
       "      <td>1.08543</td>\n",
       "      <td>1.08548</td>\n",
       "      <td>1.08567</td>\n",
       "      <td>1.08571</td>\n",
       "      <td>1.08567</td>\n",
       "      <td>1.08567</td>\n",
       "    </tr>\n",
       "    <tr>\n",
       "      <th>1</th>\n",
       "      <td>2024-07-26T20:57:55.000000000Z</td>\n",
       "      <td>4</td>\n",
       "      <td>1.08554</td>\n",
       "      <td>1.08558</td>\n",
       "      <td>1.08554</td>\n",
       "      <td>1.08556</td>\n",
       "      <td>1.08546</td>\n",
       "      <td>1.08548</td>\n",
       "      <td>1.08546</td>\n",
       "      <td>1.08548</td>\n",
       "      <td>1.08563</td>\n",
       "      <td>1.08567</td>\n",
       "      <td>1.08563</td>\n",
       "      <td>1.08565</td>\n",
       "    </tr>\n",
       "    <tr>\n",
       "      <th>2</th>\n",
       "      <td>2024-07-26T20:58:00.000000000Z</td>\n",
       "      <td>4</td>\n",
       "      <td>1.08554</td>\n",
       "      <td>1.08557</td>\n",
       "      <td>1.08554</td>\n",
       "      <td>1.08556</td>\n",
       "      <td>1.08543</td>\n",
       "      <td>1.08548</td>\n",
       "      <td>1.08543</td>\n",
       "      <td>1.08548</td>\n",
       "      <td>1.08565</td>\n",
       "      <td>1.08566</td>\n",
       "      <td>1.08565</td>\n",
       "      <td>1.08565</td>\n",
       "    </tr>\n",
       "    <tr>\n",
       "      <th>3</th>\n",
       "      <td>2024-07-26T20:58:05.000000000Z</td>\n",
       "      <td>1</td>\n",
       "      <td>1.08557</td>\n",
       "      <td>1.08557</td>\n",
       "      <td>1.08557</td>\n",
       "      <td>1.08557</td>\n",
       "      <td>1.08548</td>\n",
       "      <td>1.08548</td>\n",
       "      <td>1.08548</td>\n",
       "      <td>1.08548</td>\n",
       "      <td>1.08566</td>\n",
       "      <td>1.08566</td>\n",
       "      <td>1.08566</td>\n",
       "      <td>1.08566</td>\n",
       "    </tr>\n",
       "    <tr>\n",
       "      <th>4</th>\n",
       "      <td>2024-07-26T20:58:10.000000000Z</td>\n",
       "      <td>1</td>\n",
       "      <td>1.08556</td>\n",
       "      <td>1.08556</td>\n",
       "      <td>1.08556</td>\n",
       "      <td>1.08556</td>\n",
       "      <td>1.08548</td>\n",
       "      <td>1.08548</td>\n",
       "      <td>1.08548</td>\n",
       "      <td>1.08548</td>\n",
       "      <td>1.08565</td>\n",
       "      <td>1.08565</td>\n",
       "      <td>1.08565</td>\n",
       "      <td>1.08565</td>\n",
       "    </tr>\n",
       "    <tr>\n",
       "      <th>5</th>\n",
       "      <td>2024-07-26T20:58:20.000000000Z</td>\n",
       "      <td>5</td>\n",
       "      <td>1.08557</td>\n",
       "      <td>1.08558</td>\n",
       "      <td>1.08557</td>\n",
       "      <td>1.08558</td>\n",
       "      <td>1.08548</td>\n",
       "      <td>1.08549</td>\n",
       "      <td>1.08548</td>\n",
       "      <td>1.08549</td>\n",
       "      <td>1.08566</td>\n",
       "      <td>1.08568</td>\n",
       "      <td>1.08566</td>\n",
       "      <td>1.08568</td>\n",
       "    </tr>\n",
       "    <tr>\n",
       "      <th>6</th>\n",
       "      <td>2024-07-26T20:58:30.000000000Z</td>\n",
       "      <td>1</td>\n",
       "      <td>1.08558</td>\n",
       "      <td>1.08558</td>\n",
       "      <td>1.08558</td>\n",
       "      <td>1.08558</td>\n",
       "      <td>1.08549</td>\n",
       "      <td>1.08549</td>\n",
       "      <td>1.08549</td>\n",
       "      <td>1.08549</td>\n",
       "      <td>1.08567</td>\n",
       "      <td>1.08567</td>\n",
       "      <td>1.08567</td>\n",
       "      <td>1.08567</td>\n",
       "    </tr>\n",
       "    <tr>\n",
       "      <th>7</th>\n",
       "      <td>2024-07-26T20:58:40.000000000Z</td>\n",
       "      <td>1</td>\n",
       "      <td>1.08560</td>\n",
       "      <td>1.08560</td>\n",
       "      <td>1.08560</td>\n",
       "      <td>1.08560</td>\n",
       "      <td>1.08550</td>\n",
       "      <td>1.08550</td>\n",
       "      <td>1.08550</td>\n",
       "      <td>1.08550</td>\n",
       "      <td>1.08569</td>\n",
       "      <td>1.08569</td>\n",
       "      <td>1.08569</td>\n",
       "      <td>1.08569</td>\n",
       "    </tr>\n",
       "    <tr>\n",
       "      <th>8</th>\n",
       "      <td>2024-07-26T20:58:55.000000000Z</td>\n",
       "      <td>4</td>\n",
       "      <td>1.08561</td>\n",
       "      <td>1.08561</td>\n",
       "      <td>1.08558</td>\n",
       "      <td>1.08558</td>\n",
       "      <td>1.08552</td>\n",
       "      <td>1.08552</td>\n",
       "      <td>1.08547</td>\n",
       "      <td>1.08549</td>\n",
       "      <td>1.08570</td>\n",
       "      <td>1.08571</td>\n",
       "      <td>1.08567</td>\n",
       "      <td>1.08567</td>\n",
       "    </tr>\n",
       "    <tr>\n",
       "      <th>9</th>\n",
       "      <td>2024-07-26T20:59:05.000000000Z</td>\n",
       "      <td>1</td>\n",
       "      <td>1.08558</td>\n",
       "      <td>1.08558</td>\n",
       "      <td>1.08558</td>\n",
       "      <td>1.08558</td>\n",
       "      <td>1.08548</td>\n",
       "      <td>1.08548</td>\n",
       "      <td>1.08548</td>\n",
       "      <td>1.08548</td>\n",
       "      <td>1.08568</td>\n",
       "      <td>1.08568</td>\n",
       "      <td>1.08568</td>\n",
       "      <td>1.08568</td>\n",
       "    </tr>\n",
       "  </tbody>\n",
       "</table>\n",
       "</div>"
      ],
      "text/plain": [
       "                             time  volume    mid_o    mid_h    mid_l    mid_c  \\\n",
       "0  2024-07-26T20:57:50.000000000Z       4  1.08558  1.08558  1.08557  1.08558   \n",
       "1  2024-07-26T20:57:55.000000000Z       4  1.08554  1.08558  1.08554  1.08556   \n",
       "2  2024-07-26T20:58:00.000000000Z       4  1.08554  1.08557  1.08554  1.08556   \n",
       "3  2024-07-26T20:58:05.000000000Z       1  1.08557  1.08557  1.08557  1.08557   \n",
       "4  2024-07-26T20:58:10.000000000Z       1  1.08556  1.08556  1.08556  1.08556   \n",
       "5  2024-07-26T20:58:20.000000000Z       5  1.08557  1.08558  1.08557  1.08558   \n",
       "6  2024-07-26T20:58:30.000000000Z       1  1.08558  1.08558  1.08558  1.08558   \n",
       "7  2024-07-26T20:58:40.000000000Z       1  1.08560  1.08560  1.08560  1.08560   \n",
       "8  2024-07-26T20:58:55.000000000Z       4  1.08561  1.08561  1.08558  1.08558   \n",
       "9  2024-07-26T20:59:05.000000000Z       1  1.08558  1.08558  1.08558  1.08558   \n",
       "\n",
       "     bid_o    bid_h    bid_l    bid_c    ask_o    ask_h    ask_l    ask_c  \n",
       "0  1.08548  1.08548  1.08543  1.08548  1.08567  1.08571  1.08567  1.08567  \n",
       "1  1.08546  1.08548  1.08546  1.08548  1.08563  1.08567  1.08563  1.08565  \n",
       "2  1.08543  1.08548  1.08543  1.08548  1.08565  1.08566  1.08565  1.08565  \n",
       "3  1.08548  1.08548  1.08548  1.08548  1.08566  1.08566  1.08566  1.08566  \n",
       "4  1.08548  1.08548  1.08548  1.08548  1.08565  1.08565  1.08565  1.08565  \n",
       "5  1.08548  1.08549  1.08548  1.08549  1.08566  1.08568  1.08566  1.08568  \n",
       "6  1.08549  1.08549  1.08549  1.08549  1.08567  1.08567  1.08567  1.08567  \n",
       "7  1.08550  1.08550  1.08550  1.08550  1.08569  1.08569  1.08569  1.08569  \n",
       "8  1.08552  1.08552  1.08547  1.08549  1.08570  1.08571  1.08567  1.08567  \n",
       "9  1.08548  1.08548  1.08548  1.08548  1.08568  1.08568  1.08568  1.08568  "
      ]
     },
     "execution_count": 14,
     "metadata": {},
     "output_type": "execute_result"
    }
   ],
   "source": [
    "get_candles_df(res)"
   ]
  },
  {
   "cell_type": "code",
   "execution_count": 15,
   "metadata": {},
   "outputs": [],
   "source": [
    "def save_file(candles_df, pair_name, granlurity):\n",
    "    candles_df.to_pickle(f\"{pair_name}_{granlurity}.pkl\")"
   ]
  },
  {
   "cell_type": "code",
   "execution_count": 16,
   "metadata": {},
   "outputs": [],
   "source": [
    "def create_data(pair, granlarity):\n",
    "    code, json_data = fetch_candles(pair, 4000, granlarity)\n",
    "    if code != 200:\n",
    "        print(pair, \"Error\")\n",
    "        return\n",
    "    candles_df = get_candles_df(json_data)\n",
    "    print(f\"{pair} loaded {candles_df.shape[0]} from {candles_df.time.min()} to {candles_df.time.max()}\")\n",
    "    save_file(candles_df, pair, granlarity)"
   ]
  },
  {
   "cell_type": "code",
   "execution_count": 17,
   "metadata": {},
   "outputs": [
    {
     "name": "stdout",
     "output_type": "stream",
     "text": [
      "EUR_USD loaded 4000 from 2024-07-26T14:15:40.000000000Z to 2024-07-26T20:59:05.000000000Z\n",
      "EUR_GBP loaded 4000 from 2024-07-26T12:52:20.000000000Z to 2024-07-26T20:59:00.000000000Z\n",
      "EUR_JPY loaded 4000 from 2024-07-26T15:14:35.000000000Z to 2024-07-26T20:59:05.000000000Z\n",
      "EUR_CHF loaded 4000 from 2024-07-26T13:35:25.000000000Z to 2024-07-26T20:59:05.000000000Z\n",
      "EUR_NZD loaded 4000 from 2024-07-26T14:11:45.000000000Z to 2024-07-26T20:58:55.000000000Z\n",
      "EUR_CAD loaded 4000 from 2024-07-26T15:01:00.000000000Z to 2024-07-26T20:59:00.000000000Z\n",
      "USD_JPY loaded 4000 from 2024-07-26T14:50:25.000000000Z to 2024-07-26T20:58:45.000000000Z\n",
      "USD_CHF loaded 4000 from 2024-07-26T13:14:50.000000000Z to 2024-07-26T20:59:05.000000000Z\n",
      "USD_CAD loaded 4000 from 2024-07-26T14:46:30.000000000Z to 2024-07-26T20:59:05.000000000Z\n",
      "GBP_USD loaded 4000 from 2024-07-26T14:45:40.000000000Z to 2024-07-26T20:59:05.000000000Z\n",
      "GBP_JPY loaded 4000 from 2024-07-26T15:12:25.000000000Z to 2024-07-26T20:59:00.000000000Z\n",
      "GBP_CHF loaded 4000 from 2024-07-26T14:36:25.000000000Z to 2024-07-26T20:59:05.000000000Z\n",
      "GBP_NZD loaded 4000 from 2024-07-26T14:05:00.000000000Z to 2024-07-26T20:59:05.000000000Z\n",
      "GBP_CAD loaded 4000 from 2024-07-26T14:53:20.000000000Z to 2024-07-26T20:59:00.000000000Z\n",
      "CHF_JPY loaded 4000 from 2024-07-26T14:53:15.000000000Z to 2024-07-26T20:59:00.000000000Z\n",
      "NZD_USD loaded 4000 from 2024-07-26T12:47:10.000000000Z to 2024-07-26T20:58:00.000000000Z\n",
      "NZD_JPY loaded 4000 from 2024-07-26T14:29:25.000000000Z to 2024-07-26T20:59:00.000000000Z\n",
      "NZD_CHF loaded 4000 from 2024-07-26T12:02:15.000000000Z to 2024-07-26T20:58:50.000000000Z\n",
      "NZD_CAD loaded 4000 from 2024-07-26T12:41:25.000000000Z to 2024-07-26T20:59:00.000000000Z\n",
      "CAD_JPY loaded 4000 from 2024-07-26T14:32:15.000000000Z to 2024-07-26T20:59:00.000000000Z\n",
      "CAD_CHF loaded 4000 from 2024-07-26T12:46:40.000000000Z to 2024-07-26T20:58:25.000000000Z\n"
     ]
    }
   ],
   "source": [
    "for p1 in our_curr:\n",
    "    for p2 in our_curr:\n",
    "        if f\"{p1}_{p2}\" in ins_df.name.unique():\n",
    "            create_data(f\"{p1}_{p2}\", \"H1\")"
   ]
  }
 ],
 "metadata": {
  "kernelspec": {
   "display_name": "Python 3",
   "language": "python",
   "name": "python3"
  },
  "language_info": {
   "codemirror_mode": {
    "name": "ipython",
    "version": 3
   },
   "file_extension": ".py",
   "mimetype": "text/x-python",
   "name": "python",
   "nbconvert_exporter": "python",
   "pygments_lexer": "ipython3",
   "version": "3.9.1"
  }
 },
 "nbformat": 4,
 "nbformat_minor": 2
}
