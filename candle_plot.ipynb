{
 "cells": [
  {
   "cell_type": "code",
   "execution_count": 135,
   "metadata": {},
   "outputs": [],
   "source": [
    "import pandas as pd\n",
    "import utils \n",
    "import plotly.graph_objects as go\n",
    "import nbformat as nbf"
   ]
  },
  {
   "cell_type": "code",
   "execution_count": 136,
   "metadata": {},
   "outputs": [],
   "source": [
    "pair = \"EUR_USD\"\n",
    "granularity = \"H1\""
   ]
  },
  {
   "cell_type": "code",
   "execution_count": 137,
   "metadata": {},
   "outputs": [],
   "source": [
    "df = pd.read_pickle(utils.get_his_data_filename(pair, granularity))"
   ]
  },
  {
   "cell_type": "code",
   "execution_count": 138,
   "metadata": {},
   "outputs": [],
   "source": [
    "non_cols=[\"time\", \"volume\"]\n",
    "mod_cols =[x for x in df.columns if x not in non_cols]"
   ]
  },
  {
   "cell_type": "code",
   "execution_count": 139,
   "metadata": {},
   "outputs": [
    {
     "data": {
      "text/plain": [
       "['mid_o',\n",
       " 'mid_h',\n",
       " 'mid_l',\n",
       " 'mid_c',\n",
       " 'bid_o',\n",
       " 'bid_h',\n",
       " 'bid_l',\n",
       " 'bid_c',\n",
       " 'ask_o',\n",
       " 'ask_h',\n",
       " 'ask_l',\n",
       " 'ask_c']"
      ]
     },
     "execution_count": 139,
     "metadata": {},
     "output_type": "execute_result"
    }
   ],
   "source": [
    "mod_cols"
   ]
  },
  {
   "cell_type": "code",
   "execution_count": 140,
   "metadata": {},
   "outputs": [
    {
     "data": {
      "text/plain": [
       "(4000, 14)"
      ]
     },
     "execution_count": 140,
     "metadata": {},
     "output_type": "execute_result"
    }
   ],
   "source": [
    "df[mod_cols] = df[mod_cols].apply(pd.to_numeric)\n",
    "df.shape"
   ]
  },
  {
   "cell_type": "code",
   "execution_count": 141,
   "metadata": {},
   "outputs": [],
   "source": [
    "df_plot= df.iloc[1000:1065].copy()"
   ]
  },
  {
   "cell_type": "code",
   "execution_count": 142,
   "metadata": {},
   "outputs": [
    {
     "data": {
      "text/plain": [
       "(65, 14)"
      ]
     },
     "execution_count": 142,
     "metadata": {},
     "output_type": "execute_result"
    }
   ],
   "source": [
    "df_plot.shape"
   ]
  },
  {
   "cell_type": "code",
   "execution_count": 143,
   "metadata": {},
   "outputs": [
    {
     "data": {
      "application/vnd.plotly.v1+json": {
       "config": {
        "plotlyServerURL": "https://plot.ly"
       },
       "data": [
        {
         "close": [
          1.08556,
          1.08556,
          1.08555,
          1.08558,
          1.08559,
          1.08558,
          1.08558,
          1.08561,
          1.08564,
          1.08565,
          1.08566,
          1.08564,
          1.08559,
          1.08563,
          1.08564,
          1.08564,
          1.08563,
          1.08564,
          1.08564,
          1.08566,
          1.08568,
          1.0857,
          1.0857,
          1.08572,
          1.08572,
          1.0857,
          1.0857,
          1.08566,
          1.08567,
          1.08567,
          1.08568,
          1.08568,
          1.08568,
          1.08572,
          1.0857,
          1.08572,
          1.08571,
          1.08572,
          1.08572,
          1.08572,
          1.08571,
          1.08568,
          1.08568,
          1.08568,
          1.08572,
          1.08573,
          1.08578,
          1.08578,
          1.0858,
          1.0858,
          1.08584,
          1.08585,
          1.08584,
          1.08582,
          1.08584,
          1.08585,
          1.08589,
          1.0859,
          1.08587,
          1.08588,
          1.08588,
          1.08588,
          1.08591,
          1.0859,
          1.0859
         ],
         "decreasing": {
          "fillcolor": "#ff3a4c",
          "line": {
           "color": "#cc2e3c"
          }
         },
         "high": [
          1.08561,
          1.08557,
          1.08556,
          1.08558,
          1.0856,
          1.08559,
          1.08558,
          1.08561,
          1.08564,
          1.08566,
          1.08566,
          1.08564,
          1.0856,
          1.08563,
          1.08564,
          1.08565,
          1.08564,
          1.08564,
          1.08564,
          1.08566,
          1.0857,
          1.08571,
          1.0857,
          1.08574,
          1.08572,
          1.08572,
          1.0857,
          1.08568,
          1.08568,
          1.08568,
          1.08568,
          1.08568,
          1.08568,
          1.08572,
          1.0857,
          1.08572,
          1.08572,
          1.08572,
          1.08572,
          1.08572,
          1.08572,
          1.08568,
          1.08569,
          1.08568,
          1.08572,
          1.08573,
          1.08582,
          1.08578,
          1.0858,
          1.0858,
          1.08585,
          1.08585,
          1.08586,
          1.08585,
          1.08585,
          1.08585,
          1.0859,
          1.0859,
          1.08588,
          1.08588,
          1.08588,
          1.08588,
          1.08591,
          1.08591,
          1.0859
         ],
         "increasing": {
          "fillcolor": "#2ec886",
          "line": {
           "color": "#24a06b"
          }
         },
         "line": {
          "width": 1
         },
         "low": [
          1.08554,
          1.08556,
          1.08555,
          1.08555,
          1.08557,
          1.08558,
          1.08558,
          1.08558,
          1.08562,
          1.08564,
          1.08564,
          1.08564,
          1.08559,
          1.08561,
          1.08562,
          1.08558,
          1.08563,
          1.08563,
          1.08563,
          1.08564,
          1.08567,
          1.0857,
          1.0857,
          1.0857,
          1.08572,
          1.0857,
          1.0857,
          1.08566,
          1.08565,
          1.08567,
          1.08568,
          1.08567,
          1.08568,
          1.08568,
          1.0857,
          1.08571,
          1.08571,
          1.08571,
          1.0857,
          1.08571,
          1.08571,
          1.08567,
          1.08568,
          1.08566,
          1.08568,
          1.08572,
          1.08574,
          1.08578,
          1.0858,
          1.0858,
          1.08582,
          1.08585,
          1.08584,
          1.08582,
          1.08583,
          1.08583,
          1.08584,
          1.0859,
          1.08587,
          1.08587,
          1.08587,
          1.08587,
          1.0859,
          1.08589,
          1.08589
         ],
         "opacity": 1,
         "open": [
          1.0856,
          1.08556,
          1.08556,
          1.08556,
          1.08557,
          1.08558,
          1.08558,
          1.08559,
          1.08562,
          1.08565,
          1.08564,
          1.08564,
          1.0856,
          1.08562,
          1.08564,
          1.0856,
          1.08563,
          1.08564,
          1.08563,
          1.08564,
          1.08567,
          1.08571,
          1.0857,
          1.08571,
          1.08572,
          1.08572,
          1.0857,
          1.08568,
          1.08565,
          1.08567,
          1.08568,
          1.08568,
          1.08568,
          1.08569,
          1.0857,
          1.08572,
          1.08571,
          1.08572,
          1.08571,
          1.08572,
          1.08571,
          1.08568,
          1.08568,
          1.08568,
          1.08568,
          1.08572,
          1.08574,
          1.08578,
          1.0858,
          1.0858,
          1.08582,
          1.08585,
          1.08586,
          1.08585,
          1.08583,
          1.08585,
          1.08584,
          1.0859,
          1.08588,
          1.08588,
          1.08587,
          1.08587,
          1.0859,
          1.0859,
          1.08589
         ],
         "type": "candlestick",
         "x": [
          "2024-07-26T15:40:55.000000000Z",
          "2024-07-26T15:41:00.000000000Z",
          "2024-07-26T15:41:05.000000000Z",
          "2024-07-26T15:41:10.000000000Z",
          "2024-07-26T15:41:15.000000000Z",
          "2024-07-26T15:41:20.000000000Z",
          "2024-07-26T15:41:25.000000000Z",
          "2024-07-26T15:41:30.000000000Z",
          "2024-07-26T15:41:35.000000000Z",
          "2024-07-26T15:41:40.000000000Z",
          "2024-07-26T15:41:45.000000000Z",
          "2024-07-26T15:41:50.000000000Z",
          "2024-07-26T15:41:55.000000000Z",
          "2024-07-26T15:42:00.000000000Z",
          "2024-07-26T15:42:05.000000000Z",
          "2024-07-26T15:42:10.000000000Z",
          "2024-07-26T15:42:15.000000000Z",
          "2024-07-26T15:42:20.000000000Z",
          "2024-07-26T15:42:25.000000000Z",
          "2024-07-26T15:42:30.000000000Z",
          "2024-07-26T15:42:35.000000000Z",
          "2024-07-26T15:42:40.000000000Z",
          "2024-07-26T15:42:45.000000000Z",
          "2024-07-26T15:42:50.000000000Z",
          "2024-07-26T15:42:55.000000000Z",
          "2024-07-26T15:43:00.000000000Z",
          "2024-07-26T15:43:05.000000000Z",
          "2024-07-26T15:43:10.000000000Z",
          "2024-07-26T15:43:15.000000000Z",
          "2024-07-26T15:43:20.000000000Z",
          "2024-07-26T15:43:25.000000000Z",
          "2024-07-26T15:43:30.000000000Z",
          "2024-07-26T15:43:35.000000000Z",
          "2024-07-26T15:43:40.000000000Z",
          "2024-07-26T15:43:45.000000000Z",
          "2024-07-26T15:43:50.000000000Z",
          "2024-07-26T15:43:55.000000000Z",
          "2024-07-26T15:44:00.000000000Z",
          "2024-07-26T15:44:05.000000000Z",
          "2024-07-26T15:44:10.000000000Z",
          "2024-07-26T15:44:15.000000000Z",
          "2024-07-26T15:44:20.000000000Z",
          "2024-07-26T15:44:25.000000000Z",
          "2024-07-26T15:44:30.000000000Z",
          "2024-07-26T15:44:35.000000000Z",
          "2024-07-26T15:44:40.000000000Z",
          "2024-07-26T15:44:45.000000000Z",
          "2024-07-26T15:44:50.000000000Z",
          "2024-07-26T15:44:55.000000000Z",
          "2024-07-26T15:45:00.000000000Z",
          "2024-07-26T15:45:05.000000000Z",
          "2024-07-26T15:45:10.000000000Z",
          "2024-07-26T15:45:15.000000000Z",
          "2024-07-26T15:45:20.000000000Z",
          "2024-07-26T15:45:25.000000000Z",
          "2024-07-26T15:45:30.000000000Z",
          "2024-07-26T15:45:35.000000000Z",
          "2024-07-26T15:45:40.000000000Z",
          "2024-07-26T15:45:45.000000000Z",
          "2024-07-26T15:45:50.000000000Z",
          "2024-07-26T15:45:55.000000000Z",
          "2024-07-26T15:46:00.000000000Z",
          "2024-07-26T15:46:05.000000000Z",
          "2024-07-26T15:46:10.000000000Z",
          "2024-07-26T15:46:15.000000000Z"
         ]
        }
       ],
       "layout": {
        "font": {
         "color": "#e1e1e1",
         "size": 10
        },
        "height": 400,
        "margin": {
         "b": 10,
         "l": 10,
         "r": 10,
         "t": 10
        },
        "paper_bgcolor": "#1e1e1e",
        "plot_bgcolor": "#1e1e1e",
        "template": {
         "data": {
          "bar": [
           {
            "error_x": {
             "color": "#2a3f5f"
            },
            "error_y": {
             "color": "#2a3f5f"
            },
            "marker": {
             "line": {
              "color": "#E5ECF6",
              "width": 0.5
             },
             "pattern": {
              "fillmode": "overlay",
              "size": 10,
              "solidity": 0.2
             }
            },
            "type": "bar"
           }
          ],
          "barpolar": [
           {
            "marker": {
             "line": {
              "color": "#E5ECF6",
              "width": 0.5
             },
             "pattern": {
              "fillmode": "overlay",
              "size": 10,
              "solidity": 0.2
             }
            },
            "type": "barpolar"
           }
          ],
          "carpet": [
           {
            "aaxis": {
             "endlinecolor": "#2a3f5f",
             "gridcolor": "white",
             "linecolor": "white",
             "minorgridcolor": "white",
             "startlinecolor": "#2a3f5f"
            },
            "baxis": {
             "endlinecolor": "#2a3f5f",
             "gridcolor": "white",
             "linecolor": "white",
             "minorgridcolor": "white",
             "startlinecolor": "#2a3f5f"
            },
            "type": "carpet"
           }
          ],
          "choropleth": [
           {
            "colorbar": {
             "outlinewidth": 0,
             "ticks": ""
            },
            "type": "choropleth"
           }
          ],
          "contour": [
           {
            "colorbar": {
             "outlinewidth": 0,
             "ticks": ""
            },
            "colorscale": [
             [
              0,
              "#0d0887"
             ],
             [
              0.1111111111111111,
              "#46039f"
             ],
             [
              0.2222222222222222,
              "#7201a8"
             ],
             [
              0.3333333333333333,
              "#9c179e"
             ],
             [
              0.4444444444444444,
              "#bd3786"
             ],
             [
              0.5555555555555556,
              "#d8576b"
             ],
             [
              0.6666666666666666,
              "#ed7953"
             ],
             [
              0.7777777777777778,
              "#fb9f3a"
             ],
             [
              0.8888888888888888,
              "#fdca26"
             ],
             [
              1,
              "#f0f921"
             ]
            ],
            "type": "contour"
           }
          ],
          "contourcarpet": [
           {
            "colorbar": {
             "outlinewidth": 0,
             "ticks": ""
            },
            "type": "contourcarpet"
           }
          ],
          "heatmap": [
           {
            "colorbar": {
             "outlinewidth": 0,
             "ticks": ""
            },
            "colorscale": [
             [
              0,
              "#0d0887"
             ],
             [
              0.1111111111111111,
              "#46039f"
             ],
             [
              0.2222222222222222,
              "#7201a8"
             ],
             [
              0.3333333333333333,
              "#9c179e"
             ],
             [
              0.4444444444444444,
              "#bd3786"
             ],
             [
              0.5555555555555556,
              "#d8576b"
             ],
             [
              0.6666666666666666,
              "#ed7953"
             ],
             [
              0.7777777777777778,
              "#fb9f3a"
             ],
             [
              0.8888888888888888,
              "#fdca26"
             ],
             [
              1,
              "#f0f921"
             ]
            ],
            "type": "heatmap"
           }
          ],
          "heatmapgl": [
           {
            "colorbar": {
             "outlinewidth": 0,
             "ticks": ""
            },
            "colorscale": [
             [
              0,
              "#0d0887"
             ],
             [
              0.1111111111111111,
              "#46039f"
             ],
             [
              0.2222222222222222,
              "#7201a8"
             ],
             [
              0.3333333333333333,
              "#9c179e"
             ],
             [
              0.4444444444444444,
              "#bd3786"
             ],
             [
              0.5555555555555556,
              "#d8576b"
             ],
             [
              0.6666666666666666,
              "#ed7953"
             ],
             [
              0.7777777777777778,
              "#fb9f3a"
             ],
             [
              0.8888888888888888,
              "#fdca26"
             ],
             [
              1,
              "#f0f921"
             ]
            ],
            "type": "heatmapgl"
           }
          ],
          "histogram": [
           {
            "marker": {
             "pattern": {
              "fillmode": "overlay",
              "size": 10,
              "solidity": 0.2
             }
            },
            "type": "histogram"
           }
          ],
          "histogram2d": [
           {
            "colorbar": {
             "outlinewidth": 0,
             "ticks": ""
            },
            "colorscale": [
             [
              0,
              "#0d0887"
             ],
             [
              0.1111111111111111,
              "#46039f"
             ],
             [
              0.2222222222222222,
              "#7201a8"
             ],
             [
              0.3333333333333333,
              "#9c179e"
             ],
             [
              0.4444444444444444,
              "#bd3786"
             ],
             [
              0.5555555555555556,
              "#d8576b"
             ],
             [
              0.6666666666666666,
              "#ed7953"
             ],
             [
              0.7777777777777778,
              "#fb9f3a"
             ],
             [
              0.8888888888888888,
              "#fdca26"
             ],
             [
              1,
              "#f0f921"
             ]
            ],
            "type": "histogram2d"
           }
          ],
          "histogram2dcontour": [
           {
            "colorbar": {
             "outlinewidth": 0,
             "ticks": ""
            },
            "colorscale": [
             [
              0,
              "#0d0887"
             ],
             [
              0.1111111111111111,
              "#46039f"
             ],
             [
              0.2222222222222222,
              "#7201a8"
             ],
             [
              0.3333333333333333,
              "#9c179e"
             ],
             [
              0.4444444444444444,
              "#bd3786"
             ],
             [
              0.5555555555555556,
              "#d8576b"
             ],
             [
              0.6666666666666666,
              "#ed7953"
             ],
             [
              0.7777777777777778,
              "#fb9f3a"
             ],
             [
              0.8888888888888888,
              "#fdca26"
             ],
             [
              1,
              "#f0f921"
             ]
            ],
            "type": "histogram2dcontour"
           }
          ],
          "mesh3d": [
           {
            "colorbar": {
             "outlinewidth": 0,
             "ticks": ""
            },
            "type": "mesh3d"
           }
          ],
          "parcoords": [
           {
            "line": {
             "colorbar": {
              "outlinewidth": 0,
              "ticks": ""
             }
            },
            "type": "parcoords"
           }
          ],
          "pie": [
           {
            "automargin": true,
            "type": "pie"
           }
          ],
          "scatter": [
           {
            "fillpattern": {
             "fillmode": "overlay",
             "size": 10,
             "solidity": 0.2
            },
            "type": "scatter"
           }
          ],
          "scatter3d": [
           {
            "line": {
             "colorbar": {
              "outlinewidth": 0,
              "ticks": ""
             }
            },
            "marker": {
             "colorbar": {
              "outlinewidth": 0,
              "ticks": ""
             }
            },
            "type": "scatter3d"
           }
          ],
          "scattercarpet": [
           {
            "marker": {
             "colorbar": {
              "outlinewidth": 0,
              "ticks": ""
             }
            },
            "type": "scattercarpet"
           }
          ],
          "scattergeo": [
           {
            "marker": {
             "colorbar": {
              "outlinewidth": 0,
              "ticks": ""
             }
            },
            "type": "scattergeo"
           }
          ],
          "scattergl": [
           {
            "marker": {
             "colorbar": {
              "outlinewidth": 0,
              "ticks": ""
             }
            },
            "type": "scattergl"
           }
          ],
          "scattermapbox": [
           {
            "marker": {
             "colorbar": {
              "outlinewidth": 0,
              "ticks": ""
             }
            },
            "type": "scattermapbox"
           }
          ],
          "scatterpolar": [
           {
            "marker": {
             "colorbar": {
              "outlinewidth": 0,
              "ticks": ""
             }
            },
            "type": "scatterpolar"
           }
          ],
          "scatterpolargl": [
           {
            "marker": {
             "colorbar": {
              "outlinewidth": 0,
              "ticks": ""
             }
            },
            "type": "scatterpolargl"
           }
          ],
          "scatterternary": [
           {
            "marker": {
             "colorbar": {
              "outlinewidth": 0,
              "ticks": ""
             }
            },
            "type": "scatterternary"
           }
          ],
          "surface": [
           {
            "colorbar": {
             "outlinewidth": 0,
             "ticks": ""
            },
            "colorscale": [
             [
              0,
              "#0d0887"
             ],
             [
              0.1111111111111111,
              "#46039f"
             ],
             [
              0.2222222222222222,
              "#7201a8"
             ],
             [
              0.3333333333333333,
              "#9c179e"
             ],
             [
              0.4444444444444444,
              "#bd3786"
             ],
             [
              0.5555555555555556,
              "#d8576b"
             ],
             [
              0.6666666666666666,
              "#ed7953"
             ],
             [
              0.7777777777777778,
              "#fb9f3a"
             ],
             [
              0.8888888888888888,
              "#fdca26"
             ],
             [
              1,
              "#f0f921"
             ]
            ],
            "type": "surface"
           }
          ],
          "table": [
           {
            "cells": {
             "fill": {
              "color": "#EBF0F8"
             },
             "line": {
              "color": "white"
             }
            },
            "header": {
             "fill": {
              "color": "#C8D4E3"
             },
             "line": {
              "color": "white"
             }
            },
            "type": "table"
           }
          ]
         },
         "layout": {
          "annotationdefaults": {
           "arrowcolor": "#2a3f5f",
           "arrowhead": 0,
           "arrowwidth": 1
          },
          "autotypenumbers": "strict",
          "coloraxis": {
           "colorbar": {
            "outlinewidth": 0,
            "ticks": ""
           }
          },
          "colorscale": {
           "diverging": [
            [
             0,
             "#8e0152"
            ],
            [
             0.1,
             "#c51b7d"
            ],
            [
             0.2,
             "#de77ae"
            ],
            [
             0.3,
             "#f1b6da"
            ],
            [
             0.4,
             "#fde0ef"
            ],
            [
             0.5,
             "#f7f7f7"
            ],
            [
             0.6,
             "#e6f5d0"
            ],
            [
             0.7,
             "#b8e186"
            ],
            [
             0.8,
             "#7fbc41"
            ],
            [
             0.9,
             "#4d9221"
            ],
            [
             1,
             "#276419"
            ]
           ],
           "sequential": [
            [
             0,
             "#0d0887"
            ],
            [
             0.1111111111111111,
             "#46039f"
            ],
            [
             0.2222222222222222,
             "#7201a8"
            ],
            [
             0.3333333333333333,
             "#9c179e"
            ],
            [
             0.4444444444444444,
             "#bd3786"
            ],
            [
             0.5555555555555556,
             "#d8576b"
            ],
            [
             0.6666666666666666,
             "#ed7953"
            ],
            [
             0.7777777777777778,
             "#fb9f3a"
            ],
            [
             0.8888888888888888,
             "#fdca26"
            ],
            [
             1,
             "#f0f921"
            ]
           ],
           "sequentialminus": [
            [
             0,
             "#0d0887"
            ],
            [
             0.1111111111111111,
             "#46039f"
            ],
            [
             0.2222222222222222,
             "#7201a8"
            ],
            [
             0.3333333333333333,
             "#9c179e"
            ],
            [
             0.4444444444444444,
             "#bd3786"
            ],
            [
             0.5555555555555556,
             "#d8576b"
            ],
            [
             0.6666666666666666,
             "#ed7953"
            ],
            [
             0.7777777777777778,
             "#fb9f3a"
            ],
            [
             0.8888888888888888,
             "#fdca26"
            ],
            [
             1,
             "#f0f921"
            ]
           ]
          },
          "colorway": [
           "#636efa",
           "#EF553B",
           "#00cc96",
           "#ab63fa",
           "#FFA15A",
           "#19d3f3",
           "#FF6692",
           "#B6E880",
           "#FF97FF",
           "#FECB52"
          ],
          "font": {
           "color": "#2a3f5f"
          },
          "geo": {
           "bgcolor": "white",
           "lakecolor": "white",
           "landcolor": "#E5ECF6",
           "showlakes": true,
           "showland": true,
           "subunitcolor": "white"
          },
          "hoverlabel": {
           "align": "left"
          },
          "hovermode": "closest",
          "mapbox": {
           "style": "light"
          },
          "paper_bgcolor": "white",
          "plot_bgcolor": "#E5ECF6",
          "polar": {
           "angularaxis": {
            "gridcolor": "white",
            "linecolor": "white",
            "ticks": ""
           },
           "bgcolor": "#E5ECF6",
           "radialaxis": {
            "gridcolor": "white",
            "linecolor": "white",
            "ticks": ""
           }
          },
          "scene": {
           "xaxis": {
            "backgroundcolor": "#E5ECF6",
            "gridcolor": "white",
            "gridwidth": 2,
            "linecolor": "white",
            "showbackground": true,
            "ticks": "",
            "zerolinecolor": "white"
           },
           "yaxis": {
            "backgroundcolor": "#E5ECF6",
            "gridcolor": "white",
            "gridwidth": 2,
            "linecolor": "white",
            "showbackground": true,
            "ticks": "",
            "zerolinecolor": "white"
           },
           "zaxis": {
            "backgroundcolor": "#E5ECF6",
            "gridcolor": "white",
            "gridwidth": 2,
            "linecolor": "white",
            "showbackground": true,
            "ticks": "",
            "zerolinecolor": "white"
           }
          },
          "shapedefaults": {
           "line": {
            "color": "#2a3f5f"
           }
          },
          "ternary": {
           "aaxis": {
            "gridcolor": "white",
            "linecolor": "white",
            "ticks": ""
           },
           "baxis": {
            "gridcolor": "white",
            "linecolor": "white",
            "ticks": ""
           },
           "bgcolor": "#E5ECF6",
           "caxis": {
            "gridcolor": "white",
            "linecolor": "white",
            "ticks": ""
           }
          },
          "title": {
           "x": 0.05
          },
          "xaxis": {
           "automargin": true,
           "gridcolor": "white",
           "linecolor": "white",
           "ticks": "",
           "title": {
            "standoff": 15
           },
           "zerolinecolor": "white",
           "zerolinewidth": 2
          },
          "yaxis": {
           "automargin": true,
           "gridcolor": "white",
           "linecolor": "white",
           "ticks": "",
           "title": {
            "standoff": 15
           },
           "zerolinecolor": "white",
           "zerolinewidth": 2
          }
         }
        },
        "width": 1000,
        "xaxis": {
         "fixedrange": true,
         "rangeslider": {
          "visible": false
         },
         "showgrid": false
        },
        "yaxis": {
         "fixedrange": true,
         "showgrid": false
        }
       }
      }
     },
     "metadata": {},
     "output_type": "display_data"
    }
   ],
   "source": [
    "fig=go.Figure()\n",
    "fig.add_trace(go.Candlestick(\n",
    "    x=df_plot.time,\n",
    "    open=df_plot.mid_o,\n",
    "    high=df_plot.mid_h,\n",
    "    low=df_plot.mid_l,\n",
    "    close=df_plot.mid_c,\n",
    "    line=dict(width=1),\n",
    "    opacity=1,\n",
    "    increasing_line_color='#24a06b',\n",
    "    decreasing_line_color='#cc2e3c',\n",
    "    increasing_fillcolor='#2ec886',\n",
    "    decreasing_fillcolor='#ff3a4c',\n",
    "))\n",
    "fig.update_layout(width=1000, height=400, \n",
    "                  margin=dict(l=10, r=10, t=10, b=10),\n",
    "                  paper_bgcolor='#1e1e1e',\n",
    "                  font=dict(size=10, color='#e1e1e1'),\n",
    "                  plot_bgcolor='#1e1e1e')\n",
    "#fig.update_xaxes(gridcolor=\"silver\",showgrid=True, fixedrange=True, rangeslider=dict(visible=False))\n",
    "#fig.update_yaxes(gridcolor=\"silver\", showgrid=True, fixedrange=True)\n",
    "fig.update_xaxes(showgrid=False, fixedrange=True, rangeslider=dict(visible=False))\n",
    "fig.update_yaxes(showgrid=False, fixedrange=True)\n"
   ]
  },
  {
   "cell_type": "code",
   "execution_count": 144,
   "metadata": {},
   "outputs": [
    {
     "data": {
      "text/plain": [
       "'\\nfig=go.Figure()\\nfig.add_trace(go.Candlestick(\\n    x=df_plot.time,\\n    open=df_plot.mid_o,\\n    high=df_plot.mid_h,\\n    low=df_plot.mid_l,\\n    close=df_plot.mid_c,\\n    line=dict(width=1),\\n    opacity=1,\\n    increasing_line_color=\\'#24a06b\\',\\n    decreasing_line_color=\\'#cc2e3c\\',\\n    increasing_fillcolor=\\'#2ec886\\',\\n    decreasing_fillcolor=\\'#ff3a4c\\',\\n))\\nfig.update_layout(width=1000, height=400, \\n                  margin=dict(l=10, r=10, t=10, b=10),\\n                  paper_bgcolor=\\'#faf6ea\\',\\n                  font=dict(size=10, color=\\'#000000\\'),\\n                  plot_bgcolor=\\'#faf6ea\\')\\n#fig.update_xaxes(gridcolor=\"silver\",showgrid=True, fixedrange=True, rangeslider=dict(visible=False))\\n#fig.update_yaxes(gridcolor=\"silver\", showgrid=True, fixedrange=True)\\nfig.update_xaxes(showgrid=False, fixedrange=True, rangeslider=dict(visible=False))\\nfig.update_yaxes(showgrid=False, fixedrange=True)\\n'"
      ]
     },
     "execution_count": 144,
     "metadata": {},
     "output_type": "execute_result"
    }
   ],
   "source": [
    "'''\n",
    "fig=go.Figure()\n",
    "fig.add_trace(go.Candlestick(\n",
    "    x=df_plot.time,\n",
    "    open=df_plot.mid_o,\n",
    "    high=df_plot.mid_h,\n",
    "    low=df_plot.mid_l,\n",
    "    close=df_plot.mid_c,\n",
    "    line=dict(width=1),\n",
    "    opacity=1,\n",
    "    increasing_line_color='#24a06b',\n",
    "    decreasing_line_color='#cc2e3c',\n",
    "    increasing_fillcolor='#2ec886',\n",
    "    decreasing_fillcolor='#ff3a4c',\n",
    "))\n",
    "fig.update_layout(width=1000, height=400, \n",
    "                  margin=dict(l=10, r=10, t=10, b=10),\n",
    "                  paper_bgcolor='#faf6ea',\n",
    "                  font=dict(size=10, color='#000000'),\n",
    "                  plot_bgcolor='#faf6ea')\n",
    "#fig.update_xaxes(gridcolor=\"silver\",showgrid=True, fixedrange=True, rangeslider=dict(visible=False))\n",
    "#fig.update_yaxes(gridcolor=\"silver\", showgrid=True, fixedrange=True)\n",
    "fig.update_xaxes(showgrid=False, fixedrange=True, rangeslider=dict(visible=False))\n",
    "fig.update_yaxes(showgrid=False, fixedrange=True)\n",
    "'''\n"
   ]
  },
  {
   "cell_type": "code",
   "execution_count": null,
   "metadata": {},
   "outputs": [],
   "source": []
  }
 ],
 "metadata": {
  "kernelspec": {
   "display_name": "Python 3",
   "language": "python",
   "name": "python3"
  },
  "language_info": {
   "codemirror_mode": {
    "name": "ipython",
    "version": 3
   },
   "file_extension": ".py",
   "mimetype": "text/x-python",
   "name": "python",
   "nbconvert_exporter": "python",
   "pygments_lexer": "ipython3",
   "version": "3.12.4"
  }
 },
 "nbformat": 4,
 "nbformat_minor": 2
}
